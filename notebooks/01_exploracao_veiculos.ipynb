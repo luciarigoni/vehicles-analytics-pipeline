{
 "cells": [
  {
   "cell_type": "code",
   "execution_count": null,
   "id": "672737ff-2455-40ee-9aa8-c616a82fd258",
   "metadata": {},
   "outputs": [],
   "source": [
    "import pandas as pd"
   ]
  },
  {
   "cell_type": "code",
   "execution_count": null,
   "id": "21097ecb-98aa-480a-83ca-a09a97ea96e9",
   "metadata": {},
   "outputs": [],
   "source": [
    "df = pd.read_csv('../data/raw/veiculo_eletrico.csv')"
   ]
  },
  {
   "cell_type": "code",
   "execution_count": null,
   "id": "41391a4e-125c-4d4e-89d2-eee14efe6a3e",
   "metadata": {},
   "outputs": [],
   "source": [
    "df.head(5)"
   ]
  },
  {
   "cell_type": "code",
   "execution_count": null,
   "id": "5d96306d-be97-453e-8ddb-5ce763865238",
   "metadata": {},
   "outputs": [],
   "source": [
    "#Removendo colunas\n",
    "colunas_remover = ['County', 'Postal Code', 'Electric Range', 'Base MSRP','Legislative District', 'DOL Vehicle ID','Vehicle Location', 'Electric Utility', '2020 Census Tract']\n",
    "df.drop(columns=colunas_remover, inplace=True)\n",
    "df"
   ]
  },
  {
   "cell_type": "code",
   "execution_count": null,
   "id": "3d692f95-3d2a-4562-8ea7-b5ea542300b7",
   "metadata": {},
   "outputs": [],
   "source": [
    "# Renomeando colunas\n",
    "df2 = df.rename(columns={'VIN (1-10)': 'id', 'City': 'cidade', 'State': 'estado', 'Model Year': 'ano_modelo',\\\n",
    "                  'Make': 'marca', 'Model': 'modelo', 'Electric Vehicle Type': 'tipo_veiculo_eletrico',\\\n",
    "                  'Clean Alternative Fuel Vehicle (CAFV) Eligibility': 'combustivel_limpo'})"
   ]
  },
  {
   "cell_type": "code",
   "execution_count": null,
   "id": "b3dc9c58-2f96-47fd-b805-40b2b36f6cae",
   "metadata": {},
   "outputs": [],
   "source": [
    "# Mapeando valores únicos da coluna\n",
    "valores_unicos = df2['combustivel_limpo'].unique()\n",
    "valores_unicos"
   ]
  },
  {
   "cell_type": "code",
   "execution_count": null,
   "id": "e3303dc7-e0c9-42e6-895e-94e4a311ea1f",
   "metadata": {},
   "outputs": [],
   "source": [
    "mapeamento_elegibilidade = {\n",
    "    'Clean Alternative Fuel Vehicle Eligible': 'Sim',\n",
    "    'Not eligible due to low battery range': 'Não',\n",
    "    'Eligibility unknown as battery range has not been researched': 'Desconhecido'\n",
    "}"
   ]
  },
  {
   "cell_type": "code",
   "execution_count": null,
   "id": "c928cf7b-035e-47ba-b04f-19171a5c458f",
   "metadata": {},
   "outputs": [],
   "source": [
    "df2['combustivel_limpo'] = df2['combustivel_limpo'].replace(mapeamento_elegibilidade)\n",
    "df2"
   ]
  },
  {
   "cell_type": "code",
   "execution_count": null,
   "id": "9c13b0f1-98c5-4720-a9b3-0904356d034c",
   "metadata": {},
   "outputs": [],
   "source": [
    "# Mapeando tipos únicos de veículos da coluna\n",
    "carros_unicos = df2['tipo_veiculo_eletrico'].unique()\n",
    "carros_unicos"
   ]
  },
  {
   "cell_type": "code",
   "execution_count": null,
   "id": "4704e421-1133-45fb-bae7-03369a1f477e",
   "metadata": {},
   "outputs": [],
   "source": [
    "mapeamento_veiculo = {\n",
    "    'Battery Electric Vehicle (BEV)': 'Veículo Elétrico a Bateria',\n",
    "    'Plug-in Hybrid Electric Vehicle (PHEV)': ' Veículo Híbrido Plug-in'}"
   ]
  },
  {
   "cell_type": "code",
   "execution_count": null,
   "id": "cf44ee55-452f-41d7-a961-d6782bbab5f1",
   "metadata": {},
   "outputs": [],
   "source": [
    "df2['tipo_veiculo_eletrico'] = df2['tipo_veiculo_eletrico'].replace(mapeamento_veiculo)\n",
    "df2"
   ]
  },
  {
   "cell_type": "code",
   "execution_count": null,
   "id": "1608183f-191a-4a3c-83aa-dc5bc98dd09f",
   "metadata": {},
   "outputs": [],
   "source": [
    "caminho_novo_csv = '../data/processed/veiculos_eletricos_processado.csv'"
   ]
  },
  {
   "cell_type": "code",
   "execution_count": null,
   "id": "46d889fd-d33f-439b-9b65-b0dbb63e3653",
   "metadata": {},
   "outputs": [],
   "source": [
    "df2.to_csv(caminho_novo_csv, index=False)\n",
    "\n",
    "print(f\"Novo CSV salvo com sucesso em: {caminho_novo_csv}\")"
   ]
  },
  {
   "cell_type": "code",
   "execution_count": null,
   "id": "94089258-0e45-4b4b-982a-fbc43d5f17c5",
   "metadata": {},
   "outputs": [],
   "source": []
  }
 ],
 "metadata": {
  "kernelspec": {
   "display_name": "Python 3 (ipykernel)",
   "language": "python",
   "name": "python3"
  },
  "language_info": {
   "codemirror_mode": {
    "name": "ipython",
    "version": 3
   },
   "file_extension": ".py",
   "mimetype": "text/x-python",
   "name": "python",
   "nbconvert_exporter": "python",
   "pygments_lexer": "ipython3",
   "version": "3.11.7"
  }
 },
 "nbformat": 4,
 "nbformat_minor": 5
}
